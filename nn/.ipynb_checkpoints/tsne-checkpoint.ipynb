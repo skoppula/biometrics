{
 "cells": [
  {
   "cell_type": "code",
   "execution_count": 44,
   "metadata": {
    "collapsed": false
   },
   "outputs": [],
   "source": [
    "from sklearn.manifold import TSNE\n",
    "import numpy as np\n",
    "import matplotlib.pyplot as plt\n",
    "import verify_nnet\n",
    "%matplotlib inline"
   ]
  },
  {
   "cell_type": "code",
   "execution_count": 63,
   "metadata": {
    "collapsed": true
   },
   "outputs": [],
   "source": [
    "model = TSNE(n_components=2, perplexity=50, random_state=1)\n",
    "spk = \"101\""
   ]
  },
  {
   "cell_type": "code",
   "execution_count": 68,
   "metadata": {
    "collapsed": true
   },
   "outputs": [
    {
     "data": {
      "text/plain": [
       "(11546, 2)"
      ]
     },
     "execution_count": 68,
     "metadata": {},
     "output_type": "execute_result"
    }
   ],
   "source": [
    "activations = np.load(\"tsne_model_60/\" + spk + \"/activations_\" + spk + \".npy\")\n",
    "activations.shape"
   ]
  },
  {
   "cell_type": "code",
   "execution_count": null,
   "metadata": {
    "collapsed": true
   },
   "outputs": [],
   "source": []
  },
  {
   "cell_type": "code",
   "execution_count": 95,
   "metadata": {
    "collapsed": false
   },
   "outputs": [
    {
     "data": {
      "text/plain": [
       "(11546,)"
      ]
     },
     "execution_count": 95,
     "metadata": {},
     "output_type": "execute_result"
    }
   ],
   "source": [
    "BASE_PATH = \"/home/skoppula/biometrics/data/yoho/kaldi_yoho/data/\"\n",
    "VER_PATH = BASE_PATH + \"verify/final/nn_inp-60_frames/\"\n",
    "lbls = np.load(VER_PATH + \"y.npy\")\n",
    "te_x = np.load(VER_PATH + \"X.npy\")\n",
    "te_y = verify_nnet.get_verify_lbls(lbls, int(spk))\n",
    "te_y.shape"
   ]
  },
  {
   "cell_type": "code",
   "execution_count": 97,
   "metadata": {
    "collapsed": false
   },
   "outputs": [],
   "source": [
    "pidxs = np.where(te_y[0:300]==1)[0]"
   ]
  },
  {
   "cell_type": "code",
   "execution_count": 108,
   "metadata": {
    "collapsed": false
   },
   "outputs": [
    {
     "data": {
      "text/plain": [
       "(11546, 60, 60)"
      ]
     },
     "execution_count": 108,
     "metadata": {},
     "output_type": "execute_result"
    }
   ],
   "source": [
    "te_x.shape"
   ]
  },
  {
   "cell_type": "code",
   "execution_count": 110,
   "metadata": {
    "collapsed": false
   },
   "outputs": [
    {
     "data": {
      "text/plain": [
       "(11762, 60, 60)"
      ]
     },
     "execution_count": 110,
     "metadata": {},
     "output_type": "execute_result"
    }
   ],
   "source": [
    "np.concatenate((np.repeat(lbls[pidxs], 2), lbls))\n",
    "np.concatenate((np.repeat(te_x[pidxs], 10, axis=0), te_x), axis=0).shape"
   ]
  },
  {
   "cell_type": "code",
   "execution_count": 112,
   "metadata": {
    "collapsed": false
   },
   "outputs": [
    {
     "data": {
      "text/plain": [
       "(11762,)"
      ]
     },
     "execution_count": 112,
     "metadata": {},
     "output_type": "execute_result"
    }
   ],
   "source": []
  },
  {
   "cell_type": "code",
   "execution_count": 89,
   "metadata": {
    "collapsed": false
   },
   "outputs": [
    {
     "data": {
      "text/plain": [
       "([(101, 108),\n",
       "  (102, 113),\n",
       "  (103, 99),\n",
       "  (104, 127),\n",
       "  (105, 110),\n",
       "  (106, 149),\n",
       "  (107, 101),\n",
       "  (108, 97),\n",
       "  (109, 98),\n",
       "  (110, 100),\n",
       "  (111, 123),\n",
       "  (112, 124),\n",
       "  (113, 100),\n",
       "  (114, 112),\n",
       "  (115, 118),\n",
       "  (116, 115),\n",
       "  (117, 116),\n",
       "  (118, 121),\n",
       "  (119, 109),\n",
       "  (120, 121),\n",
       "  (121, 108),\n",
       "  (122, 94),\n",
       "  (124, 107),\n",
       "  (125, 107),\n",
       "  (126, 124),\n",
       "  (127, 132),\n",
       "  (128, 111),\n",
       "  (130, 127),\n",
       "  (131, 125),\n",
       "  (132, 109),\n",
       "  (133, 96),\n",
       "  (134, 107),\n",
       "  (135, 115),\n",
       "  (136, 104),\n",
       "  (137, 93),\n",
       "  (138, 106),\n",
       "  (139, 98),\n",
       "  (140, 102),\n",
       "  (141, 108),\n",
       "  (142, 112),\n",
       "  (143, 126),\n",
       "  (144, 117),\n",
       "  (145, 125),\n",
       "  (146, 103),\n",
       "  (147, 120),\n",
       "  (148, 108),\n",
       "  (150, 119),\n",
       "  (151, 114),\n",
       "  (152, 85),\n",
       "  (154, 115),\n",
       "  (155, 103),\n",
       "  (156, 97),\n",
       "  (157, 86),\n",
       "  (158, 117),\n",
       "  (159, 108),\n",
       "  (160, 87),\n",
       "  (161, 96),\n",
       "  (162, 95),\n",
       "  (163, 94),\n",
       "  (164, 115),\n",
       "  (165, 88),\n",
       "  (166, 126),\n",
       "  (167, 119),\n",
       "  (168, 122),\n",
       "  (169, 118),\n",
       "  (170, 84),\n",
       "  (171, 120),\n",
       "  (172, 123),\n",
       "  (174, 99),\n",
       "  (175, 119),\n",
       "  (176, 119),\n",
       "  (178, 88),\n",
       "  (180, 105),\n",
       "  (181, 100),\n",
       "  (182, 114),\n",
       "  (183, 100),\n",
       "  (184, 96),\n",
       "  (185, 83),\n",
       "  (188, 106),\n",
       "  (189, 85),\n",
       "  (190, 88),\n",
       "  (191, 111),\n",
       "  (192, 119),\n",
       "  (193, 119),\n",
       "  (196, 87),\n",
       "  (197, 103),\n",
       "  (198, 119),\n",
       "  (199, 106),\n",
       "  (200, 87),\n",
       "  (201, 101),\n",
       "  (202, 110),\n",
       "  (203, 90),\n",
       "  (204, 92),\n",
       "  (205, 85),\n",
       "  (206, 81),\n",
       "  (207, 101),\n",
       "  (208, 102),\n",
       "  (209, 108),\n",
       "  (210, 91),\n",
       "  (211, 87),\n",
       "  (212, 110),\n",
       "  (213, 93),\n",
       "  (215, 86),\n",
       "  (216, 91),\n",
       "  (218, 109),\n",
       "  (219, 127),\n",
       "  (220, 94),\n",
       "  (221, 102),\n",
       "  (222, 57)],\n",
       " 11546)"
      ]
     },
     "execution_count": 89,
     "metadata": {},
     "output_type": "execute_result"
    }
   ],
   "source": [
    "y = np.bincount(lbls)\n",
    "ii = np.nonzero(y)[0]\n",
    "list(zip(ii,y[ii])), len(lbls)"
   ]
  },
  {
   "cell_type": "code",
   "execution_count": 86,
   "metadata": {
    "collapsed": false
   },
   "outputs": [],
   "source": [
    "preds = np.load(\"tsne_model_60/\" + spk + \"/predictions_\" + spk + \".npy\")\n",
    "preds.shape\n",
    "diffs = np.where(preds[:,0] < preds[:,1])"
   ]
  },
  {
   "cell_type": "code",
   "execution_count": 87,
   "metadata": {
    "collapsed": false
   },
   "outputs": [
    {
     "name": "stdout",
     "output_type": "stream",
     "text": [
      "[101 101 101 101 102 102 102 102]\n",
      "[[ 0.9893589   0.01064114]\n",
      " [ 0.9893589   0.01064114]\n",
      " [ 1.          0.        ]\n",
      " [ 0.9893589   0.01064114]\n",
      " [ 1.          0.        ]\n",
      " [ 0.9893589   0.01064114]\n",
      " [ 0.9893589   0.01064114]\n",
      " [ 1.          0.        ]]\n",
      "[[ 0.9893589   0.01064114]\n",
      " [ 0.9893589   0.01064114]\n",
      " [ 1.          0.        ]\n",
      " [ 0.9893589   0.01064114]\n",
      " [ 1.          0.        ]\n",
      " [ 0.9893589   0.01064114]\n",
      " [ 0.9893589   0.01064114]\n",
      " [ 1.          0.        ]]\n"
     ]
    },
    {
     "data": {
      "text/plain": [
       "(array([], shape=(0, 2), dtype=float32),\n",
       " array([], shape=(0, 2), dtype=float32))"
      ]
     },
     "execution_count": 87,
     "metadata": {},
     "output_type": "execute_result"
    }
   ],
   "source": [
    "pl_act = activations[0:300]\n",
    "pl_te = te_y[0:300]\n",
    "pl_pred = preds[0:300]\n",
    "# print(sum(te_y))\n",
    "# print(te_y[104:112])\n",
    "print(lbls[104:112])\n",
    "print(pl_act[104:112])\n",
    "print(pl_pred[104:112])\n",
    "# print(pl_act.shape, pl_te.shape)\n",
    "preds[diffs], activations[diffs]"
   ]
  },
  {
   "cell_type": "code",
   "execution_count": 53,
   "metadata": {
    "collapsed": false
   },
   "outputs": [],
   "source": [
    "out = model.fit_transform(pl_act)"
   ]
  },
  {
   "cell_type": "code",
   "execution_count": 54,
   "metadata": {
    "collapsed": false
   },
   "outputs": [
    {
     "data": {
      "image/png": "[encoded data removed]",
      "text/plain": [
       "<matplotlib.figure.Figure at 0x7ff4c7259160>"
      ]
     },
     "metadata": {},
     "output_type": "display_data"
    }
   ],
   "source": [
    "plt.title(\"BH-SNE Embedding of Last Layer ReLU activations\")\n",
    "plt.scatter(out[:,0], out[:,1], c=pl_te, cmap=plt.cm.get_cmap(\"prism\", 2))\n",
    "plt.colorbar(ticks=range(1,3))\n",
    "plt.show()"
   ]
  }
 ],
 "metadata": {
  "anaconda-cloud": {},
  "kernelspec": {
   "display_name": "Python [conda env:tensorflow]",
   "language": "python",
   "name": "conda-env-tensorflow-py"
  },
  "language_info": {
   "codemirror_mode": {
    "name": "ipython",
    "version": 3
   },
   "file_extension": ".py",
   "mimetype": "text/x-python",
   "name": "python",
   "nbconvert_exporter": "python",
   "pygments_lexer": "ipython3",
   "version": "3.5.2"
  }
 },
 "nbformat": 4,
 "nbformat_minor": 1
}
