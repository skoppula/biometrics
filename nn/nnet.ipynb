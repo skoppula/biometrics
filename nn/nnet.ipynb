{
 "cells": [
  {
   "cell_type": "code",
   "execution_count": null,
   "metadata": {
    "collapsed": true
   },
   "outputs": [],
   "source": [
    "from sklearn.preprocessing import label_binarize\n",
    "\n",
    "ENR_X_60 = np.load(\"/home/skoppula/biometrics\")\n",
    "\n",
    "def binarize(spk_labels):\n",
    "    # Binarize the output (one hot encoding of spk truth labels)\n",
    "    print \"Binarizing labels...\"\n",
    "    bin_spk_labels = label_binarize(spk_labels, classes=list(set(spk_labels)))\n",
    "    return bin_spk_labels"
   ]
  }
 ],
 "metadata": {
  "anaconda-cloud": {},
  "kernelspec": {
   "display_name": "Python [default]",
   "language": "python",
   "name": "python3"
  },
  "language_info": {
   "codemirror_mode": {
    "name": "ipython",
    "version": 3
   },
   "file_extension": ".py",
   "mimetype": "text/x-python",
   "name": "python",
   "nbconvert_exporter": "python",
   "pygments_lexer": "ipython3",
   "version": "3.5.2"
  }
 },
 "nbformat": 4,
 "nbformat_minor": 1
}
