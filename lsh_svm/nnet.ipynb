{
 "cells": [
  {
   "cell_type": "code",
   "execution_count": 1,
   "metadata": {
    "collapsed": false
   },
   "outputs": [
    {
     "name": "stderr",
     "output_type": "stream",
     "text": [
      "/usr/lib/python2.7/dist-packages/matplotlib/font_manager.py:273: UserWarning: Matplotlib is building the font cache using fc-list. This may take a moment.\n",
      "  warnings.warn('Matplotlib is building the font cache using fc-list. This may take a moment.')\n"
     ]
    }
   ],
   "source": [
    "import tensorflow as tf\n",
    "import numpy as np\n",
    "from svm_helpers import *\n",
    "from lsh import *"
   ]
  },
  {
   "cell_type": "code",
   "execution_count": null,
   "metadata": {
    "collapsed": false
   },
   "outputs": [],
   "source": [
    "enr_ivec_path = \"./processed_data/ivectors_enroll_500_600/all-enroll-ivectors.ark\"\n",
    "(n_classes, n_features, n_ivectors, spk_labels, ivectors, utt_ids) = read_ivectors(enr_ivec_path)\n",
    "nbph = 8000\n",
    "hashes = gen_hashes(ivectors, n_features, 1, nbph, hyperplane_ratio=0.9)\n",
    "salts = get_salts(nbph)"
   ]
  },
  {
   "cell_type": "code",
   "execution_count": null,
   "metadata": {
    "collapsed": false
   },
   "outputs": [],
   "source": [
    "print salts[0:20]\n",
    "print hashes[0,0:20]"
   ]
  },
  {
   "cell_type": "code",
   "execution_count": null,
   "metadata": {
    "collapsed": false
   },
   "outputs": [],
   "source": [
    "new_hashes = apply_salt2_xor(hashes, salts)"
   ]
  },
  {
   "cell_type": "code",
   "execution_count": null,
   "metadata": {
    "collapsed": false
   },
   "outputs": [],
   "source": [
    "bin_spk_labels = binarize(spk_labels)\n",
    "trX, teX, trY, teY = train_test_split(new_hashes, bin_spk_labels)"
   ]
  },
  {
   "cell_type": "code",
   "execution_count": null,
   "metadata": {
    "collapsed": false
   },
   "outputs": [],
   "source": [
    "import time\n",
    "\n",
    "def init_weights(shape):\n",
    "    return tf.Variable(tf.random_normal(shape, stddev=0.01))\n",
    "\n",
    "def model(X, w_h, w_o):\n",
    "    h = tf.nn.sigmoid(tf.matmul(X, w_h)) # this is a basic mlp, think 2 stacked logistic regressions\n",
    "    return tf.matmul(h, w_o) # note that we dont take the softmax at the end because our cost fn does that for us\n",
    "\n",
    "# mnist = input_data.read_data_sets(\"MNIST_data/\", one_hot=True)\n",
    "# trX, trY, teX, teY = mnist.train.images, mnist.train.labels, mnist.test.images, mnist.test.labels\n",
    "\n",
    "X = tf.placeholder(\"float\", [None, nbph])\n",
    "Y = tf.placeholder(\"float\", [None, 138])\n",
    "\n",
    "w_h = init_weights([nbph, 625]) # create symbolic variables\n",
    "w_o = init_weights([625, 138])\n",
    "\n",
    "py_x = model(X, w_h, w_o)\n",
    "\n",
    "cost = tf.reduce_mean(tf.nn.softmax_cross_entropy_with_logits(py_x, Y)) # compute costs\n",
    "train_op = tf.train.GradientDescentOptimizer(0.05).minimize(cost) # construct an optimizer\n",
    "predict_op = tf.argmax(py_x, 1)\n",
    "\n",
    "accs = []\n",
    "avg_times = []\n",
    "num_test_spks = np.shape(teX)[0]\n",
    "def evaluate_accuracy():\n",
    "    t0 = time.time()\n",
    "    np.bitwise_xor(hashes[0,:], salts)\n",
    "    acc = np.mean(np.argmax(teY, axis=1) == sess.run(predict_op, feed_dict={X: teX}))\n",
    "    total_time_avg = (time.time()-t0)/(num_test_spks + 0.0)*1000\n",
    "    avg_times.append(total_time_avg)\n",
    "    accs.append(acc)\n",
    "    return acc, total_time_avg"
   ]
  },
  {
   "cell_type": "code",
   "execution_count": null,
   "metadata": {
    "collapsed": false,
    "scrolled": true
   },
   "outputs": [],
   "source": [
    "MAX_NUM_EPOCHS = 100\n",
    "num_epochs = 0\n",
    "# Launch the graph in a session\n",
    "with tf.Session() as sess:\n",
    "    # you need to initialize all variables\n",
    "    tf.initialize_all_variables().run()\n",
    "    old_acc = -1\n",
    "    thres = 0.0001\n",
    "    for i in range(MAX_NUM_EPOCHS):\n",
    "        for start, end in zip(range(0, len(trX), 128), range(128, len(trX)+1, 128)):\n",
    "            sess.run(train_op, feed_dict={X: trX[start:end], Y: trY[start:end]})\n",
    "        acc, tm = evaluate_accuracy()\n",
    "        print(i, acc, tm)\n",
    "        if acc - old_acc < thres:\n",
    "            break\n",
    "        else:\n",
    "            num_epocs += 1\n",
    "            old_acc = acc"
   ]
  },
  {
   "cell_type": "code",
   "execution_count": null,
   "metadata": {
    "collapsed": true
   },
   "outputs": [],
   "source": [
    "for nbphs in range(3000,8200,200)[::-1]:\n",
    "    "
   ]
  },
  {
   "cell_type": "code",
   "execution_count": null,
   "metadata": {
    "collapsed": false
   },
   "outputs": [],
   "source": [
    "len(avg_times)\n",
    "num_epochs = len(avg_times)"
   ]
  },
  {
   "cell_type": "code",
   "execution_count": null,
   "metadata": {
    "collapsed": false
   },
   "outputs": [],
   "source": [
    "def plot_acc(x, accs):\n",
    "    plt.clf()\n",
    "    fig = plt.figure()\n",
    "    plt.plot(x, accs, '-o')\n",
    "    fig.suptitle('Accuracy as Function of 1-Layer Net Training Iterations (99.84% MAX)')\n",
    "    plt.xlabel('Iterations')\n",
    "    plt.ylabel('Accuracy')\n",
    "    plt.show()\n",
    "\n",
    "def plot_times(x, times):\n",
    "    plt.clf()\n",
    "    fig = plt.figure()\n",
    "    plt.plot(x, times, '-o')\n",
    "    mx_time = str(max(times))\n",
    "    fig.suptitle('Authentication Latency as Function of 1-Layer Net Training Iterations (%s MAX)' % mx_time)\n",
    "    plt.xlabel('Iterations')\n",
    "    plt.ylabel('Milliseconds')\n",
    "    plt.show()\n",
    "    \n",
    "plot_acc(range(1,num_epochs+1), accs)\n",
    "plot_times(range(1,num_epochs+1), avg_times)"
   ]
  }
 ],
 "metadata": {
  "kernelspec": {
   "display_name": "Python [conda env:tensorflow]",
   "language": "python",
   "name": "conda-env-tensorflow-py"
  },
  "language_info": {
   "codemirror_mode": {
    "name": "ipython",
    "version": 3
   },
   "file_extension": ".py",
   "mimetype": "text/x-python",
   "name": "python",
   "nbconvert_exporter": "python",
   "pygments_lexer": "ipython3",
   "version": "3.5.2"
  }
 },
 "nbformat": 4,
 "nbformat_minor": 1
}
