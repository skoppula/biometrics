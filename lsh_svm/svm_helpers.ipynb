{
 "cells": [
  {
   "cell_type": "code",
   "execution_count": null,
   "metadata": {
    "collapsed": true
   },
   "outputs": [],
   "source": [
    "import numpy as np\n",
    "\n",
    "def file_len(fname):\n",
    "    import subprocess\n",
    "    \n",
    "    p = subprocess.Popen(['wc', '-l', fname], stdout=subprocess.PIPE, stderr=subprocess.PIPE)\n",
    "    result, err = p.communicate()\n",
    "    if p.returncode != 0:\n",
    "        raise IOError(err)\n",
    "    return int(result.strip().split()[0])\n",
    "\n",
    "\n",
    "def read_ivectors(data_path):\n",
    "    print \"Reading in ivector data\", data_path\n",
    "    ''' \n",
    "        takes in file like all-enroll-ivectors.ark with format:\n",
    "           241-1-62_93_41  [ -0.905705 -1.320126 ... 0.1273378 -0.236616 ]\n",
    "           241-1-63_46_67  [ -0.905705 -1.320126 ... 0.1273378 -0.236616 ]\n",
    "            ...\n",
    "        and returns:\n",
    "           (n_classes, n_features, n_ivectors, spk_labels, ivectors, utt_ids)\n",
    "           ivectors has format:\n",
    "               [-0.905705 -1.320126 ... 0.1273378 -0.236616 ] -> utterance for spk 1\n",
    "               [-0.905705 -1.320126 ... 0.1273378 -0.236616 ] -> utterance 2 for spk 1\n",
    "               ...\n",
    "               num of utterances\n",
    "               ...\n",
    "    '''\n",
    "    # get the num_features and dimension of each ivector\n",
    "    n_ivectors = file_len(data_path)\n",
    "    with open(data_path, 'r') as f:\n",
    "        first_line = f.readline().split(\"  \")\n",
    "        ivector = np.fromstring(first_line[1].strip()[2:-2], dtype=float, sep=' ')\n",
    "        n_features = len(ivector)\n",
    "    \n",
    "    ivector_count = 0\n",
    "    ivectors = np.zeros(shape=(n_ivectors,n_features), dtype=float)\n",
    "    spk_labels = np.zeros(shape=(n_ivectors,), dtype=int)\n",
    "    utt_ids = np.zeros(shape=(n_ivectors,), dtype=str)\n",
    "    truth_labels = []\n",
    "\n",
    "    with open(data_path, \"r\") as f:\n",
    "        for line in f:\n",
    "            parts = line.split(\"  \")\n",
    "            \n",
    "            ivector = np.fromstring(parts[1].strip()[2:-2], dtype=float, sep=' ')\n",
    "            assert len(ivector) == n_features\n",
    "            ivectors[ivector_count] = ivector\n",
    "            \n",
    "            utt_name = parts[0]\n",
    "            spk_labels[ivector_count] = int(utt_name.split(\"-\")[0])\n",
    "            utt_ids[ivector_count] = utt_name\n",
    "            \n",
    "            ivector_count += 1\n",
    "\n",
    "    n_classes = len(set(spk_labels))\n",
    "    print(\"number of distinct labels:\", n_classes)\n",
    "    print(\"number of features:\", n_features)\n",
    "    print(\"number of ivectors:\", n_ivectors)\n",
    "    print(\"i-vector matrix shape:\", ivectors.shape)\n",
    "    return (n_classes, n_features, n_ivectors, np.int64(spk_labels), ivectors, utt_ids)"
   ]
  },
  {
   "cell_type": "code",
   "execution_count": null,
   "metadata": {
    "collapsed": false
   },
   "outputs": [],
   "source": [
    "import random\n",
    "from matplotlib.pyplot import cm\n",
    "import pylab\n",
    "\n",
    "def plot_2dim_ivec(ivectors, spks, ivec_idxs = [0,1], save_dir=\"ivec_viz/\"):\n",
    "    spk_plot_data = {}\n",
    "    for spk in spks:\n",
    "        spk_plot_data[spk] = [[],[]]\n",
    "    \n",
    "    for i in range(n_ivectors):\n",
    "        if(spk_labels[i] in spk_plot_data):\n",
    "            for j in range(2):\n",
    "                spk_plot_data[spk_labels[i]][j].append(ivectors[i][ivec_idxs[j]])\n",
    "    plt.clf()\n",
    "    color=iter(cm.rainbow(np.linspace(0,1,len(spks))))\n",
    "    for spk in spks:\n",
    "        c=next(color)\n",
    "        plt.scatter(spk_plot_data[spk][0], spk_plot_data[spk][1], color=c)\n",
    "    if(save_dir):\n",
    "        pylab.savefig(save_dir + \"_\".join([str(x) for x in ivec_idxs])+\".png\",bbox_inches='tight')\n",
    "    else:\n",
    "        plt.show()\n",
    "        \n",
    "def plot_all_dim_ivec(ivectors, spks, num_spks = 15, save_dir=\"ivec_viz/\"):\n",
    "    chosen_spks = random.sample(set(spk_labels), num_spks)\n",
    "    with open(\"ivec_viz/spks.txt\", \"w\") as f:\n",
    "        f.write(str(chosen_spks) + \"\\n\")\n",
    "    for i in range(np.shape(ivectors)[1]-1):\n",
    "        plot_2dim_ivec(ivectors, spks, ivec_idxs=[i,i+1], save_dir=save_dir)"
   ]
  },
  {
   "cell_type": "code",
   "execution_count": null,
   "metadata": {
    "collapsed": true
   },
   "outputs": [],
   "source": [
    "def spk_label_freqs(spk_labels):\n",
    "    y = np.bincount(spk_labels)\n",
    "    ii = np.nonzero(y)[0]\n",
    "    return zip(ii,y[ii]) "
   ]
  },
  {
   "cell_type": "code",
   "execution_count": null,
   "metadata": {
    "collapsed": false
   },
   "outputs": [],
   "source": [
    "def binarize(spk_labels):\n",
    "    # Binarize the output (one hot encoding of spk truth labels)\n",
    "    from sklearn.preprocessing import label_binarize\n",
    "    print \"Binarizing labels...\"\n",
    "    bin_spk_labels = label_binarize(spk_labels, classes=list(set(spk_labels)))\n",
    "    return bin_spk_labels\n",
    "\n",
    "def train_test_split(ivectors, bin_spk_labels, test_size=0.1):\n",
    "    from sklearn.model_selection import train_test_split\n",
    "    print \"Splitting into train and test. proportion: \", test_size\n",
    "    X_train, X_test, y_train, y_test = train_test_split(ivectors, bin_spk_labels, test_size=test_size, random_state=0)\n",
    "    print \"X train and test shapes\", X_train.shape, X_test.shape, \"y train and test shapes\", y_train.shape, y_test.shape\n",
    "    return X_train, X_test, y_train, y_test"
   ]
  },
  {
   "cell_type": "code",
   "execution_count": null,
   "metadata": {
    "collapsed": false
   },
   "outputs": [],
   "source": [
    "def train_svm(X_train, y_train):\n",
    "    from sklearn.multiclass import OneVsRestClassifier\n",
    "    from sklearn import svm\n",
    "    import numpy as np\n",
    "\n",
    "    random_state = np.random.RandomState(0)\n",
    "    classifier = OneVsRestClassifier(svm.SVC(kernel='linear', probability=True, random_state=random_state))\n",
    "    print \"Training 1 v All SVM...\"\n",
    "    clf = classifier.fit(X_train, y_train)\n",
    "    return clf\n",
    "\n",
    "def compute_decision_function(clf, X_test):\n",
    "    print 'computing decision score (distance from hyperplane for each classifier)'\n",
    "    y_score = clf.decision_function(X_test)\n",
    "    return y_score"
   ]
  },
  {
   "cell_type": "code",
   "execution_count": null,
   "metadata": {
    "collapsed": true
   },
   "outputs": [],
   "source": [
    "def compute_fpr_tpr_across_all_classes(y_test, y_score, n_classes):\n",
    "    from sklearn.metrics import roc_curve, auc\n",
    "    print \"computing FPR and TPR and ROC AUC across all classes...\"\n",
    "    from scipy import interp\n",
    "    # Compute ROC curve and ROC area for each class\n",
    "    fpr = dict()\n",
    "    tpr = dict()\n",
    "    roc_auc = dict()\n",
    "    for i in range(n_classes):\n",
    "        fpr[i], tpr[i], _ = roc_curve(y_test[:, i], y_score[:, i])\n",
    "        roc_auc[i] = auc(fpr[i], tpr[i])\n",
    "\n",
    "    # Compute micro-average ROC curve and ROC area\n",
    "    fpr[\"micro\"], tpr[\"micro\"], _ = roc_curve(y_test.ravel(), y_score.ravel())\n",
    "    roc_auc[\"micro\"] = auc(fpr[\"micro\"], tpr[\"micro\"])\n",
    "    \n",
    "    # Now calculate macro-average ROC curve and ROC area\n",
    "    \n",
    "    # First aggregate all false positive rates\n",
    "    all_fpr = np.unique(np.concatenate([fpr[i] for i in range(n_classes)]))\n",
    "\n",
    "    # Then interpolate all ROC curves at this points\n",
    "    mean_tpr = np.zeros_like(all_fpr)\n",
    "    for i in range(n_classes):\n",
    "        mean_tpr += interp(all_fpr, fpr[i], tpr[i])\n",
    "\n",
    "    # Finally average it and compute AUC\n",
    "    mean_tpr /= n_classes\n",
    "\n",
    "    fpr[\"macro\"] = all_fpr\n",
    "    tpr[\"macro\"] = mean_tpr\n",
    "    roc_auc[\"macro\"] = auc(fpr[\"macro\"], tpr[\"macro\"])\n",
    "    \n",
    "    return fpr, tpr, roc_auc"
   ]
  },
  {
   "cell_type": "code",
   "execution_count": null,
   "metadata": {
    "collapsed": false
   },
   "outputs": [],
   "source": [
    "import matplotlib.pyplot as plt\n",
    "\n",
    "# nclass_index can either be one of the classes (1, n_classes) or 'micro' or 'macro'\n",
    "def plot_idx_roc_curve(fpr, tpr, roc_auc, nclass_idx):\n",
    "    plot_roc_curve(fpr[nclass_idx], tpr[nclass_idx], roc_auc[nclass_idx])\n",
    "    \n",
    "# nclass_index can either be one of the classes (1, n_classes) or 'micro'\n",
    "def plot_roc_curve(fpr, tpr, roc_auc):\n",
    "    plt.figure()\n",
    "    lw = 2\n",
    "    plt.plot(fpr, tpr, color='darkorange', lw=lw, label='ROC curve (area = %0.2f)' % roc_auc)\n",
    "    plt.plot([0, 1], [0, 1], color='navy', lw=lw, linestyle='--')\n",
    "    plt.xlim([0.0, 1.0])\n",
    "    plt.ylim([0.0, 1.05])\n",
    "    plt.xlabel('False Positive Rate')\n",
    "    plt.ylabel('True Positive Rate')\n",
    "    plt.title('Receiver operating characteristic example')\n",
    "    plt.legend(loc=\"lower right\")\n",
    "    plt.show()\n",
    "    \n",
    "def plot_dist_decision_boundary(y_score, y_test, idx):\n",
    "    positive_ex = [e for i,e in enumerate(y_score[:,idx]) if y_test[:,idx] == 1]\n",
    "    negative_ex = [e for i,e in enumerate(y_score[:,idx]) if y_test[:,idx] == 0]\n",
    "    plt.clf()\n",
    "    plt.scatter(positive_ex, [0]*len(positive_ex), color='b')\n",
    "    plt.scatter(negative_ex, [0]*len(negative_ex), color='r')\n",
    "    plt.show()"
   ]
  },
  {
   "cell_type": "code",
   "execution_count": null,
   "metadata": {
    "collapsed": true
   },
   "outputs": [],
   "source": [
    "def compute_eer(fpr, tpr, nclass_idx):\n",
    "    from scipy.optimize import brentq\n",
    "    from scipy.interpolate import interp1d\n",
    "    eer = brentq(lambda x : 1. - x - interp1d(fpr[nclass_idx], tpr[nclass_idx])(x), 0., 1.)\n",
    "    print eer"
   ]
  },
  {
   "cell_type": "code",
   "execution_count": null,
   "metadata": {
    "collapsed": true
   },
   "outputs": [],
   "source": [
    "######################################################################\n",
    "######################################################################\n",
    "######################################################################\n",
    "######################################################################\n",
    "######################################################################\n",
    "######################################################################\n",
    "######################################################################\n",
    "######################################################################\n",
    "######################################################################"
   ]
  },
  {
   "cell_type": "code",
   "execution_count": null,
   "metadata": {
    "collapsed": false
   },
   "outputs": [],
   "source": [
    "def main():\n",
    "    enr_ivec_path = \"./processed_data/ivectors_enroll_500_600/all-enroll-ivectors.ark\"\n",
    "    (n_classes, n_features, n_ivectors, spk_labels, ivectors, utt_ids) = read_ivectors(enr_ivec_path)\n",
    "    bin_spk_labels = binarize(spk_labels)\n",
    "    X_train, X_test, y_train, y_test = train_test_split(ivectors, bin_spk_labels)\n",
    "    \n",
    "    clf = train_svm(X_train, y_train)\n",
    "    y_score = compute_decision_function(clf, X_test)\n",
    "    fpr, tpr, roc_auc = compute_fpr_tpr_across_all_classes(y_test, y_score, n_classes)\n",
    "    \n",
    "    plot_idx_roc_curve(fpr, tpr, roc_auc, 'macro')\n",
    "    compute_eer(fpr, tpr, 'macro')"
   ]
  },
  {
   "cell_type": "code",
   "execution_count": null,
   "metadata": {
    "collapsed": false
   },
   "outputs": [],
   "source": [
    "# np.shape(y_score)"
   ]
  },
  {
   "cell_type": "code",
   "execution_count": null,
   "metadata": {
    "collapsed": false
   },
   "outputs": [],
   "source": []
  }
 ],
 "metadata": {
  "anaconda-cloud": {},
  "kernelspec": {
   "display_name": "Python [conda env:tensorflow]",
   "language": "python",
   "name": "conda-env-tensorflow-py"
  },
  "language_info": {
   "codemirror_mode": {
    "name": "ipython",
    "version": 3
   },
   "file_extension": ".py",
   "mimetype": "text/x-python",
   "name": "python",
   "nbconvert_exporter": "python",
   "pygments_lexer": "ipython3",
   "version": "3.5.2"
  }
 },
 "nbformat": 4,
 "nbformat_minor": 0
}
