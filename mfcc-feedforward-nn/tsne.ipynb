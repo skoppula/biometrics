{
 "cells": [
  {
   "cell_type": "code",
   "execution_count": 3,
   "metadata": {
    "collapsed": false
   },
   "outputs": [],
   "source": [
    "from sklearn.manifold import TSNE\n",
    "import numpy as np\n",
    "import matplotlib.pyplot as plt\n",
    "import verify_nnet\n",
    "%matplotlib inline"
   ]
  },
  {
   "cell_type": "code",
   "execution_count": null,
   "metadata": {
    "collapsed": true
   },
   "outputs": [],
   "source": [
    "model = TSNE(n_components=2, perplexity=50, random_state=1)\n",
    "spk = \"101\""
   ]
  },
  {
   "cell_type": "code",
   "execution_count": null,
   "metadata": {
    "collapsed": true
   },
   "outputs": [],
   "source": [
    "out = model.fit_transform(pl_act)"
   ]
  },
  {
   "cell_type": "code",
   "execution_count": null,
   "metadata": {
    "collapsed": true
   },
   "outputs": [],
   "source": [
    "plt.title(\"BH-SNE Embedding of Last Layer ReLU activations\")\n",
    "plt.scatter(out[:,0], out[:,1], c=pl_te, cmap=plt.cm.get_cmap(\"prism\", 2))\n",
    "plt.colorbar(ticks=range(1,3))\n",
    "plt.show()"
   ]
  },
  {
   "cell_type": "code",
   "execution_count": 4,
   "metadata": {
    "collapsed": false
   },
   "outputs": [
    {
     "name": "stdout",
     "output_type": "stream",
     "text": [
      "\n",
      "NUM INPUT FRAMES: 120 \n",
      "\n",
      "Model(s) Path:  classify_model_120/\n",
      "Using verification path:  /home/skoppula/biometrics/data/yoho/kaldi_yoho/data/verify/final/nn_inp-120_frames/\n",
      "Using enroll data path:  /home/skoppula/biometrics/data/yoho/kaldi_yoho/data/enroll/final/nn_inp-120_frames/\n",
      "Enroll X shape (13685, 7200)\n",
      "Enroll y shape (13685,)\n",
      "Verify X shape (4488, 7200)\n",
      "Verify y shape (4488,)\n"
     ]
    }
   ],
   "source": [
    "N_INP_FRMS = 120\n",
    "\n",
    "print(\"\\nNUM INPUT FRAMES:\",N_INP_FRMS,\"\\n\")\n",
    "BASE_PATH = \"/home/skoppula/biometrics/data/yoho/kaldi_yoho/data/\"\n",
    "VER_PATH = BASE_PATH + \"verify/final/nn_inp-\" + str(N_INP_FRMS) + \"_frames/\"\n",
    "ENR_PATH = BASE_PATH + \"enroll/final/nn_inp-\" + str(N_INP_FRMS) + \"_frames/\"\n",
    "\n",
    "print(\"Model(s) Path: \", MODEL_PATH)\n",
    "print(\"Using verification path: \", VER_PATH)\n",
    "print(\"Using enroll data path: \", ENR_PATH)\n",
    "\n",
    "# ENROLL DATA LOAD\n",
    "enr_x = np.load(ENR_PATH + \"X.npy\")\n",
    "n_frames = np.shape(enr_x)[0]\n",
    "enr_x = enr_x.reshape(n_frames, N_INP_FRMS * 60) # 60 MFCCs per frame\n",
    "enr_y = np.load(ENR_PATH + \"y.npy\")\n",
    "assert n_frames == np.shape(enr_y)[0]\n",
    "print(\"Enroll X shape\", np.shape(enr_x))\n",
    "print(\"Enroll y shape\", np.shape(enr_y))\n",
    "\n",
    "# VERIFY DATA LOAD\n",
    "ver_x = np.load(VER_PATH + \"X.npy\")\n",
    "n_frames = np.shape(ver_x)[0]\n",
    "ver_x = ver_x.reshape(n_frames, N_INP_FRMS * 60)\n",
    "ver_y = np.load(VER_PATH + \"y.npy\")\n",
    "assert n_frames == np.shape(ver_y)[0]\n",
    "print(\"Verify X shape\", np.shape(ver_x))\n",
    "print(\"Verify y shape\", np.shape(ver_y))\n"
   ]
  },
  {
   "cell_type": "code",
   "execution_count": 15,
   "metadata": {
    "collapsed": false
   },
   "outputs": [
    {
     "name": "stdout",
     "output_type": "stream",
     "text": [
      "138 109\n",
      "101 277 177\n",
      "{261, 268, 271, 277, 223, 224, 225, 226, 227, 228, 229, 230, 231, 232, 233, 234, 235, 236, 237, 238, 239, 240, 241, 242, 243, 244, 245, 246, 247}\n",
      "set()\n"
     ]
    }
   ],
   "source": [
    "enr_spks = set(enr_y)\n",
    "ver_spks = set(ver_y)\n",
    "\n",
    "print(len(enr_spks), len(ver_spks))\n",
    "print(min(enr_spks), max(enr_spks), max(enr_spks)-min(enr_spks)+1)\n",
    "print(enr_spks - ver_spks)\n",
    "print(ver_spks - enr_spks)"
   ]
  },
  {
   "cell_type": "code",
   "execution_count": 16,
   "metadata": {
    "collapsed": true
   },
   "outputs": [],
   "source": [
    "spk_mappings = {}\n",
    "curr_map = 0\n",
    "for spk in enr_spks.union(ver_spks):\n",
    "    if spk not in spk_mappings:\n",
    "        spk_mappings[spk] = curr_map\n",
    "        curr_map += 1\n",
    "map_spks = np.vectorize(lambda x: spk_mappings[x])\n",
    "enr_y = map_spks(enr_y)\n",
    "ver_y = map_spks(ver_y)"
   ]
  },
  {
   "cell_type": "code",
   "execution_count": 20,
   "metadata": {
    "collapsed": false
   },
   "outputs": [
    {
     "name": "stdout",
     "output_type": "stream",
     "text": [
      "138 109\n",
      "0 137 138\n",
      "{128, 129, 130, 131, 132, 133, 134, 135, 136, 137, 109, 110, 111, 112, 113, 114, 115, 116, 117, 118, 119, 120, 121, 122, 123, 124, 125, 126, 127}\n",
      "set()\n"
     ]
    }
   ],
   "source": [
    "enr_spks = set(enr_y)\n",
    "ver_spks = set(ver_y)\n",
    "\n",
    "print(len(enr_spks), len(ver_spks))\n",
    "print(min(enr_spks), max(enr_spks), max(enr_spks)-min(enr_spks)+1)\n",
    "print(enr_spks - ver_spks)\n",
    "print(ver_spks - enr_spks)"
   ]
  }
 ],
 "metadata": {
  "anaconda-cloud": {},
  "kernelspec": {
   "display_name": "Python [conda env:tensorflow]",
   "language": "python",
   "name": "conda-env-tensorflow-py"
  },
  "language_info": {
   "codemirror_mode": {
    "name": "ipython",
    "version": 3
   },
   "file_extension": ".py",
   "mimetype": "text/x-python",
   "name": "python",
   "nbconvert_exporter": "python",
   "pygments_lexer": "ipython3",
   "version": "3.5.2"
  }
 },
 "nbformat": 4,
 "nbformat_minor": 1
}
